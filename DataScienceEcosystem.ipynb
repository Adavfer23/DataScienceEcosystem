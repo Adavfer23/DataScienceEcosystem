{
 "cells": [
  {
   "cell_type": "markdown",
   "metadata": {},
   "source": [
    "<center>\n",
    "    <img src=\"https://cf-courses-data.s3.us.cloud-object-storage.appdomain.cloud/IBMDeveloperSkillsNetwork-DS0105EN-SkillsNetwork/labs/Module2/images/SN_web_lightmode.png\" width=\"300\" alt=\"cognitiveclass.ai logo\">\n",
    "</center>\n"
   ]
  },
  {
   "cell_type": "markdown",
   "metadata": {},
   "source": [
    "#### Add your code below following the instructions given in the course\n"
   ]
  },
  {
   "cell_type": "markdown",
   "metadata": {},
   "source": [
    "# Data Science Tools and Ecosystem"
   ]
  },
  {
   "cell_type": "markdown",
   "metadata": {},
   "source": [
    "*In this notebook, Data Science Tools and Ecosystem are summarized.*"
   ]
  },
  {
   "cell_type": "markdown",
   "metadata": {},
   "source": [
    "**Objectives**:\n",
    "\n",
    ">Languages for Data Science\n",
    "\n",
    ">Libraries used in Data Science\n",
    "\n",
    ">Data Science Tools\n",
    "\n",
    ">Examples "
   ]
  },
  {
   "cell_type": "markdown",
   "metadata": {},
   "source": [
    "**Some of the popular languages that Data Scientists use are:**\n",
    "\n",
    "1.Python\n",
    "\n",
    "2.R\n",
    "\n",
    "3.SQL\n",
    "\n",
    "4.Scala\n",
    "\n",
    "5.Java\n",
    "\n",
    "6.C++\n",
    "\n",
    "7.Julia\n",
    "\n",
    "8.Javascript\n",
    "\n",
    "9.PHP\n",
    "\n",
    "10.Go\n",
    "\n",
    "11.Ruby\n",
    "\n",
    "13.Visual Basic"
   ]
  },
  {
   "cell_type": "markdown",
   "metadata": {},
   "source": [
    "**Some of the commonly used libraries used by Data Scientists include:**\n",
    "\n",
    "-Python libraries\n",
    "\n",
    "  >1.-Scientific Computing Libraries in Python\n",
    " \n",
    "  >2.-Visualization Libraries in Python\n",
    " \n",
    "  >3.-High Level- Machine Learning and Deep Learning\n",
    " \n",
    "  >4.-Deep Learning Libraries in Python\n",
    " \n",
    "-Libraries and other frameworks used in other languages \n",
    "\n"
   ]
  },
  {
   "cell_type": "markdown",
   "metadata": {},
   "source": [
    "**Data Science Tools**\n",
    "\n",
    "| Management | Integration | Visualization | Model Deployment | Model Monitoring | Code Asset | Data Asset | Development Environments |Execution Environments | Fully Integrated Visual Tools |\n",
    "|--- | --- | --- | --- | --- | --- | --- | --- | --- | --- |\n",
    "| MySQL | Apache Airflow| Hue | Prediction IO | Model DB | git | Apache Atlas | Jupyter | Apache Spark | Knime |\n",
    "| PostgreSQL|Kubeflow| Kibana | Seldon | Prometheus | GitHub | Egeria | JupyterLab | Flink | Orange |\n",
    "|MongoDBApache| Apache Kafka| Superset | mleap | AI Fairness 360 Open Source Toolkit | GitLab| Kylo | Apache Seppelin | Ray |\n",
    "|Apache Cassandra| Apache nifi| | Tensor Flow Service | Adversarial Robustness 360 Toolbox | Bitbucket | | RStudio |\n",
    "|Hadoop| Spark SQL | | Tensor Flow Lite | AI Explainability 360 | | | Spyder |\n",
    "|Ceph| Node Red | | Tensor Flow.JS |\n",
    "|Elasticsearch|"
   ]
  },
  {
   "cell_type": "markdown",
   "metadata": {},
   "source": [
    "| Data Science Tools |\n",
    "|---|\n",
    "|Jupyter|\n",
    "|RStudio|\n",
    "|Spyder|"
   ]
  },
  {
   "cell_type": "markdown",
   "metadata": {
    "tags": []
   },
   "source": [
    "### Below are a few examples of evaluating arithmetic expressions in Python"
   ]
  },
  {
   "cell_type": "markdown",
   "metadata": {},
   "source": [
    " This a simple arithmetic expression to mutiply then add integers     "
   ]
  },
  {
   "cell_type": "code",
   "execution_count": 9,
   "metadata": {},
   "outputs": [
    {
     "data": {
      "text/plain": [
       "17"
      ]
     },
     "execution_count": 9,
     "metadata": {},
     "output_type": "execute_result"
    }
   ],
   "source": [
    "(3*4)+5"
   ]
  },
  {
   "cell_type": "markdown",
   "metadata": {},
   "source": [
    "This will convert 200 minutes to hours by diving by 60"
   ]
  },
  {
   "cell_type": "code",
   "execution_count": 10,
   "metadata": {},
   "outputs": [
    {
     "data": {
      "text/plain": [
       "3.3333333333333335"
      ]
     },
     "execution_count": 10,
     "metadata": {},
     "output_type": "execute_result"
    }
   ],
   "source": [
    "200/60"
   ]
  },
  {
   "cell_type": "markdown",
   "metadata": {},
   "source": [
    "## Author \n",
    "\n",
    "Ana D."
   ]
  }
 ],
 "metadata": {
  "kernelspec": {
   "display_name": "Python",
   "language": "python",
   "name": "conda-env-python-py"
  },
  "language_info": {
   "codemirror_mode": {
    "name": "ipython",
    "version": 3
   },
   "file_extension": ".py",
   "mimetype": "text/x-python",
   "name": "python",
   "nbconvert_exporter": "python",
   "pygments_lexer": "ipython3",
   "version": "3.7.12"
  }
 },
 "nbformat": 4,
 "nbformat_minor": 4
}
